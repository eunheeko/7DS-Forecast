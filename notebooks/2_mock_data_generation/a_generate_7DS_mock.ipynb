{
 "cells": [
  {
   "cell_type": "code",
   "execution_count": 3,
   "metadata": {},
   "outputs": [],
   "source": [
    "# from svnds.synphot import load_catalog\n",
    "import numpy as np"
   ]
  },
  {
   "cell_type": "markdown",
   "metadata": {},
   "source": [
    "<div class=\"alert alert-block alert-warning\"> 'EL-COSMOS' data should be downloaded before running this notebook </div>\n",
    "\n",
    "* Download [EL-COSMOS](https://cesam.lam.fr/aspic/files/elcosmos/readme_elcosmos.html)\n",
    "* We assume the EL-COSMOS is structured as follows:\n",
    "    - `path_elcomos`\n",
    "        - `EL_COMOS_zone{n}.csv` is saved in the path where n = 1-9."
   ]
  },
  {
   "cell_type": "code",
   "execution_count": 5,
   "metadata": {},
   "outputs": [],
   "source": [
    "path_elcosmos = '/data8/EL_COSMOS/elcosmos/'\n",
    "path_synphot = 'PATH to save output data'"
   ]
  },
  {
   "cell_type": "code",
   "execution_count": null,
   "metadata": {},
   "outputs": [],
   "source": [
    "elcat = ascii.read('/data8/EL_COSMOS/ELCOSMOS_v1.cat')"
   ]
  },
  {
   "cell_type": "code",
   "execution_count": 6,
   "metadata": {},
   "outputs": [
    {
     "name": "stdout",
     "output_type": "stream",
     "text": [
      "[   180   4680  14040  23400  32760  65700 328500]\n",
      "[    90   2340   7020  11700  16380  32850 164250]\n"
     ]
    }
   ],
   "source": [
    "Tsamps = np.array([180, 180 * 364/14, 180 * 364/14 * 3, 180 * 364/14 * 5, 180 * 364/14 * 7, 180 * 365, 180 * 365 * 5], dtype = int)\n",
    "print(Tsamps)\n",
    "\n",
    "Tsamps = (Tsamps * 0.5).astype(int)\n",
    "print(Tsamps)"
   ]
  },
  {
   "cell_type": "code",
   "execution_count": null,
   "metadata": {},
   "outputs": [],
   "source": []
  }
 ],
 "metadata": {
  "kernelspec": {
   "display_name": "base",
   "language": "python",
   "name": "python3"
  },
  "language_info": {
   "codemirror_mode": {
    "name": "ipython",
    "version": 3
   },
   "file_extension": ".py",
   "mimetype": "text/x-python",
   "name": "python",
   "nbconvert_exporter": "python",
   "pygments_lexer": "ipython3",
   "version": "3.9.13"
  },
  "orig_nbformat": 4
 },
 "nbformat": 4,
 "nbformat_minor": 2
}
