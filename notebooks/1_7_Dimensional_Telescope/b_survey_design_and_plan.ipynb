{
 "cells": [
  {
   "cell_type": "code",
   "execution_count": 35,
   "metadata": {},
   "outputs": [],
   "source": [
    "# from astropy.table import Table, QTable, join, vstack\n",
    "from astropy.table import Table, QTable\n",
    "\n",
    "# from astropy.io import fits\n",
    "from astropy import units as u\n",
    "\n",
    "import os\n",
    "\n",
    "# import matplotlib\n",
    "import matplotlib.pyplot as plt\n",
    "\n",
    "from scipy.integrate import trapezoid\n",
    "# from scipy.ndimage import uniform_filter1d\n",
    "# from scipy import interpolate \n",
    "\n",
    "import numpy as np\n",
    "# import pandas as pd\n",
    "\n",
    "import tqdm\n",
    "\n",
    "import pickle\n",
    "\n",
    "from svnds import PATH_DATA"
   ]
  },
  {
   "cell_type": "markdown",
   "metadata": {},
   "source": [
    "<div class=\"alert alert-block alert-danger\">\n",
    "    <span style='font-size:18px'>\n",
    "    The numbers in this notebook is only for forecast!\n",
    "    </span>    \n",
    "</div>"
   ]
  },
  {
   "cell_type": "markdown",
   "metadata": {},
   "source": [
    "## <span style='color:DarkSlateBlue'> Survey Plan & Design </span>\n",
    "- **Site**\n",
    "    - Chile, El Sauce Observatory\n",
    "- **Surveys**\n",
    "    - Reference (RIS): 20,000 deg^2\n",
    "    - Wide-Field (Wide)\n",
    "    - Intensive Monitoring Survey (IMS)\n",
    "- **Details**\n",
    "    - Moon phases\n",
    "    - Weather loss"
   ]
  },
  {
   "cell_type": "code",
   "execution_count": 36,
   "metadata": {},
   "outputs": [],
   "source": [
    "###### Telescope\n",
    "D = 50.8             # Aperture size [cm]\n",
    "D_obscuration = 29.8   # Central Obscuration (diameter) [cm]\n",
    "EFL = 1537.3           # Effective FL [mm]\n",
    "\n",
    "Deff = np.sqrt(D**2 - D_obscuration**2)\n",
    "\n",
    "###### Detector\n",
    "array = 'CMOS'       # detector array type - verified, websete\n",
    "dQ_RN = 3.           # [e], readout noise - estimated, websete\n",
    "I_dark = 0.01        # [e/s], dark current - seems to be very low ???\n",
    "pixel_size = 3.76    # [um], \"pitch\" - verified, websete\n",
    "theta_pixel = pixel_size / EFL * 206.265  # [arcsec], pixel scale- estimated, websete \n",
    "nxpix, nypix = 9576, 6388  # [pixels], detector format, approx. 9k x 6k - verified, websete"
   ]
  },
  {
   "cell_type": "code",
   "execution_count": 37,
   "metadata": {},
   "outputs": [
    {
     "name": "stdout",
     "output_type": "stream",
     "text": [
      "FOV           =        1.2 deg^2\n",
      "Exposure time =        172 sec\n"
     ]
    }
   ],
   "source": [
    "survey_area_per_night = 113.  # [deg^2]\n",
    "hrs_per_night = 9.            # hours per night\n",
    "\n",
    "FOV_per_pointing = nxpix*nypix * theta_pixel**2 / 3600**2\n",
    "T_exposure = hrs_per_night / (survey_area_per_night/FOV_per_pointing) * 3600 / 2\n",
    "\n",
    "print(f'FOV           = {FOV_per_pointing:10.3g} deg^2')\n",
    "print(f'Exposure time = {T_exposure:10.3g} sec')"
   ]
  },
  {
   "cell_type": "code",
   "execution_count": 38,
   "metadata": {},
   "outputs": [
    {
     "name": "stdout",
     "output_type": "stream",
     "text": [
      "number of pixels for a point source = 27.8\n"
     ]
    }
   ],
   "source": [
    "fwhm_seeing = 1.5     # [arcsec]\n",
    "FWHM0 = fwhm_seeing   # analysis aperture size\n",
    "Tsamp = 180.          # individual exposure time [sec], 3min\n",
    "\n",
    "# How many pixels does a point source occupy?\n",
    "# Effective number of pixels for a Gaussian PSF with FWHM0\n",
    "Npix_ptsrc = np.pi*(FWHM0/theta_pixel)**2\n",
    "print(f'number of pixels for a point source = {Npix_ptsrc:.1f}')"
   ]
  },
  {
   "cell_type": "code",
   "execution_count": 39,
   "metadata": {},
   "outputs": [],
   "source": [
    "# Constants\n",
    "h = 6.626e-27 # erg/Hz\n",
    "c = 3e10      # cm/s \n",
    "\n",
    "path_skytable = os.path.join(PATH_DATA, \"systematics/\", \"skytable.fits\")\n",
    "sky_tbl = Table.read(path_skytable)\n",
    "\n",
    "wl_nm = sky_tbl['lam']          # nm\n",
    "wl_um = wl_nm / 1e3       # micron\n",
    "wl_cm = wl_um / 1e4       # cm\n",
    "wl_am = wl_angstrom = wl_nm * 10  # angstrom\n",
    "nu = 3e18 / wl_angstrom   # Hz\n",
    "\n",
    "I_lambda = sky_tbl['flux']      # [ph/s/m2/micron/arcsec2] photon reate\n",
    "f_lambda = I_lambda * (h*c/wl_cm) / (1e2**2) / (1e4)  # erg/s/cm2/A\n",
    "\n",
    "f_nu = f_lambda * wl_angstrom * (wl_cm/c) / (1e-23 * 1e-6)  # micro Jansky\n",
    "\n",
    "#####\n",
    "# with open('filters_corrected', 'rb') as fr:\n",
    "#         filters_corrected = pickle.load(fr)\n"
   ]
  },
  {
   "cell_type": "markdown",
   "metadata": {},
   "source": [
    "### Calculate 7DS sensitivity"
   ]
  },
  {
   "cell_type": "code",
   "execution_count": 40,
   "metadata": {},
   "outputs": [],
   "source": [
    "def synth_phot(wave, flux, wave_lvf, resp_lvf, tol=1e-3, return_photonrate = False):\n",
    "    \"\"\"\n",
    "    Quick synthetic photometry routine.\n",
    "\n",
    "    Parameters\n",
    "    ----------\n",
    "    wave : `numpy.ndarray`\n",
    "        wavelength of input spectrum.\n",
    "    flux : `numpy.ndarray`\n",
    "        flux density of input spectrum in f_nu unit\n",
    "        if `return_countrate` = True, erg/s/cm2/Hz is assumed\n",
    "    wave_lvf : `numpy.ndarray`\n",
    "        wavelength of the response function\n",
    "    resp_lvf : `numpy.ndarray`\n",
    "        response function. assume that this is a QE.\n",
    "    tol : float, optional\n",
    "        Consider only wavelength range above this tolerence (peak * tol).\n",
    "        The default is 1e-3.\n",
    "\n",
    "    Returns\n",
    "    -------\n",
    "    synthethic flux density in the input unit\n",
    "        if return_photonrate = True, photon rates [ph/s/cm2]\n",
    "\n",
    "    \"\"\"\n",
    "    index_filt, = np.where(resp_lvf > resp_lvf.max()*tol)\n",
    "\n",
    "    index_flux, = np.where(np.logical_and( wave > wave_lvf[index_filt].min(), \n",
    "                                           wave < wave_lvf[index_filt].max() ))\n",
    "\n",
    "    wave_resamp = np.concatenate( (wave[index_flux], wave_lvf[index_filt]) )\n",
    "    wave_resamp.sort()\n",
    "    wave_resamp = np.unique(wave_resamp)\n",
    "    flux_resamp = np.interp(wave_resamp, wave, flux)\n",
    "    resp_resamp = np.interp(wave_resamp, wave_lvf, resp_lvf)\n",
    "\n",
    "    if return_photonrate:\n",
    "        h_planck = 6.626e-27 # erg/Hz\n",
    "        return trapezoid(resp_resamp / wave_resamp * flux_resamp, wave_resamp) / h_planck\n",
    "        \n",
    "    return trapezoid(resp_resamp / wave_resamp * flux_resamp, wave_resamp) \\\n",
    "         / trapezoid(resp_resamp / wave_resamp, wave_resamp)"
   ]
  },
  {
   "cell_type": "code",
   "execution_count": 41,
   "metadata": {},
   "outputs": [],
   "source": [
    "def pointsrc_signal2noise(mag_src, Tsamp, wave_sys, resp_sys):\n",
    "    \"\"\"\n",
    "    Calculate SN for a point source\n",
    "    \n",
    "    Input\n",
    "        mag_src: AB mag of the source, scalar\n",
    "        Tsamp: individual exposure time [sec], can be scalar or array\n",
    "\n",
    "    WARNING: !!! ALL VARIABLES ARE GLOBALLY DECLARED !!!\n",
    "    \"\"\"\n",
    "    Naper = Npix_ptsrc \n",
    "\n",
    "    #source & sky background\n",
    "    f_nu_src = f_nu*0 + 10**(-0.4*(mag_src + 48.6))  # erg/s/cm2/Hz\n",
    "    f_nu_sky = f_nu*(1e-23*1e-6)                     # erg/s/cm2/Hz/arcsec2\n",
    "\n",
    "    photon_rate_src = synth_phot(wl_um, f_nu_src, wave_sys, resp_sys, return_photonrate=True)  # ph/s/cm2\n",
    "    photon_rate_sky = synth_phot(wl_um, f_nu_sky, wave_sys, resp_sys, return_photonrate=True)  # ph/s/cm2/arcsec2\n",
    "\n",
    "    I_photo_src = photon_rate_src * (np.pi/4*Deff**2)                     # [e/s] per aperture (no aperture loss)\n",
    "    I_photo_sky = photon_rate_sky * (np.pi/4*Deff**2) * (theta_pixel**2)  # [e/s] per pixel \n",
    "\n",
    "    Q_photo_src = I_photo_src * Tsamp\n",
    "    Q_photo_sky = I_photo_sky * Tsamp\n",
    "    Q_photo_dark = I_dark * Tsamp\n",
    "\n",
    "    SN = Q_photo_src / np.sqrt(Q_photo_src + Naper*Q_photo_sky + Naper*Q_photo_dark + Naper*dQ_RN**2)\n",
    "\n",
    "    return SN"
   ]
  },
  {
   "cell_type": "code",
   "execution_count": 42,
   "metadata": {},
   "outputs": [],
   "source": [
    "lambda_7ds = np.arange(4000., 9000., 125)\n",
    "Tsamp = 180 * 364/14 * 0.5 * 7\n",
    "\n",
    "with open('filters_corrected', 'rb') as fr:\n",
    "    filters_corrected = pickle.load(fr)"
   ]
  },
  {
   "cell_type": "code",
   "execution_count": 43,
   "metadata": {},
   "outputs": [],
   "source": [
    "unit_SB  = u.nW/(u.m)**2/u.sr\n",
    "unit_cntrate = u.electron / u.s\n",
    "\n",
    "T_sens = (QTable( \n",
    "             names=('band', 'wavelength', 'I_photo_sky', 'mag_sky', 'mag_pts'),\n",
    "             dtype=(np.int16,float,float,float,float,) )\n",
    "         )\n",
    "for key in T_sens.colnames:\n",
    "    T_sens[key].info.format = '.4g'\n",
    "\n",
    "for iw, wl_cen in enumerate(lambda_7ds):\n",
    "\n",
    "    wl_cen = int(wl_cen)\n",
    "    wave_sys = filters_corrected['wave_' + str(wl_cen)]\n",
    "    resp_sys = filters_corrected['resp_' + str(wl_cen)]\n",
    "    \n",
    "    # photon rate\n",
    "    photon_rate = synth_phot(wl_um, f_nu*(1e-23*1e-6), wave_sys, resp_sys, return_photonrate=True)\n",
    "    \n",
    "    # SB\n",
    "    SB_sky = synth_phot(wl_um, f_nu*(1e-23*1e-6), wave_sys, resp_sys)\n",
    "\n",
    "    # sky photo-current or count rate [e/s]\n",
    "    I_photo = photon_rate * (np.pi/4*Deff**2) * (theta_pixel**2)\n",
    "\n",
    "    # noise in count per obs [e]. \n",
    "    Q_photo = (I_photo+I_dark)*Tsamp\n",
    "    dQ_photo = np.sqrt(Q_photo)\n",
    "\n",
    "    # noise in count rate [e/s]\n",
    "    # read-noise (indistinguishable from signal) should be added \n",
    "    dI_photo = np.sqrt(dQ_photo**2 + dQ_RN**2)/Tsamp\n",
    "\n",
    "    # surface brightness limit [one pixel]\n",
    "    dSB_sky = (dI_photo/I_photo)*SB_sky\n",
    "    mag_sky = -2.5*np.log10(5*dSB_sky) - 48.60\n",
    "\n",
    "    # point source limit\n",
    "    dFnu = np.sqrt(Npix_ptsrc) * dSB_sky*(theta_pixel)**2\n",
    "    mag_pts = -2.5*np.log10(5*dFnu) - 48.60\n",
    "    \n",
    "    # Add data to the table\n",
    "    T_sens.add_row([iw, wl_cen, I_photo, mag_sky, mag_pts]) "
   ]
  },
  {
   "cell_type": "code",
   "execution_count": 44,
   "metadata": {},
   "outputs": [
    {
     "data": {
      "text/html": [
       "<div><i>QTable length=40</i>\n",
       "<table id=\"table140034304061392\" class=\"table-striped table-bordered table-condensed\">\n",
       "<thead><tr><th>band</th><th>wavelength</th><th>I_photo_sky</th><th>mag_sky</th><th>mag_pts</th></tr></thead>\n",
       "<thead><tr><th>int16</th><th>float64</th><th>float64</th><th>float64</th><th>float64</th></tr></thead>\n",
       "<tr><td>0</td><td>4000</td><td>0.1534</td><td>23.33</td><td>23.02</td></tr>\n",
       "<tr><td>1</td><td>4125</td><td>0.2052</td><td>23.37</td><td>23.05</td></tr>\n",
       "<tr><td>2</td><td>4250</td><td>0.2221</td><td>23.46</td><td>23.14</td></tr>\n",
       "<tr><td>3</td><td>4375</td><td>0.2557</td><td>23.48</td><td>23.16</td></tr>\n",
       "<tr><td>4</td><td>4500</td><td>0.2999</td><td>23.46</td><td>23.14</td></tr>\n",
       "<tr><td>5</td><td>4625</td><td>0.3221</td><td>23.47</td><td>23.15</td></tr>\n",
       "<tr><td>6</td><td>4750</td><td>0.3342</td><td>23.47</td><td>23.15</td></tr>\n",
       "<tr><td>7</td><td>4875</td><td>0.3399</td><td>23.48</td><td>23.16</td></tr>\n",
       "<tr><td>8</td><td>5000</td><td>0.3358</td><td>23.48</td><td>23.16</td></tr>\n",
       "<tr><td>9</td><td>5125</td><td>0.3294</td><td>23.47</td><td>23.15</td></tr>\n",
       "<tr><td>...</td><td>...</td><td>...</td><td>...</td><td>...</td></tr>\n",
       "<tr><td>30</td><td>7750</td><td>0.1262</td><td>21.92</td><td>21.6</td></tr>\n",
       "<tr><td>31</td><td>7875</td><td>0.1438</td><td>21.77</td><td>21.45</td></tr>\n",
       "<tr><td>32</td><td>8000</td><td>0.1081</td><td>21.76</td><td>21.44</td></tr>\n",
       "<tr><td>33</td><td>8125</td><td>0.06286</td><td>21.85</td><td>21.53</td></tr>\n",
       "<tr><td>34</td><td>8250</td><td>0.07501</td><td>21.62</td><td>21.3</td></tr>\n",
       "<tr><td>35</td><td>8375</td><td>0.1058</td><td>21.34</td><td>21.02</td></tr>\n",
       "<tr><td>36</td><td>8500</td><td>0.08193</td><td>21.34</td><td>21.03</td></tr>\n",
       "<tr><td>37</td><td>8625</td><td>0.06379</td><td>21.33</td><td>21.02</td></tr>\n",
       "<tr><td>38</td><td>8750</td><td>0.09328</td><td>21.03</td><td>20.71</td></tr>\n",
       "<tr><td>39</td><td>8875</td><td>0.1067</td><td>20.82</td><td>20.5</td></tr>\n",
       "</table></div>"
      ],
      "text/plain": [
       "<QTable length=40>\n",
       " band wavelength I_photo_sky mag_sky mag_pts\n",
       "int16  float64     float64   float64 float64\n",
       "----- ---------- ----------- ------- -------\n",
       "    0       4000      0.1534   23.33   23.02\n",
       "    1       4125      0.2052   23.37   23.05\n",
       "    2       4250      0.2221   23.46   23.14\n",
       "    3       4375      0.2557   23.48   23.16\n",
       "    4       4500      0.2999   23.46   23.14\n",
       "    5       4625      0.3221   23.47   23.15\n",
       "    6       4750      0.3342   23.47   23.15\n",
       "    7       4875      0.3399   23.48   23.16\n",
       "    8       5000      0.3358   23.48   23.16\n",
       "    9       5125      0.3294   23.47   23.15\n",
       "  ...        ...         ...     ...     ...\n",
       "   30       7750      0.1262   21.92    21.6\n",
       "   31       7875      0.1438   21.77   21.45\n",
       "   32       8000      0.1081   21.76   21.44\n",
       "   33       8125     0.06286   21.85   21.53\n",
       "   34       8250     0.07501   21.62    21.3\n",
       "   35       8375      0.1058   21.34   21.02\n",
       "   36       8500     0.08193   21.34   21.03\n",
       "   37       8625     0.06379   21.33   21.02\n",
       "   38       8750     0.09328   21.03   20.71\n",
       "   39       8875      0.1067   20.82    20.5"
      ]
     },
     "execution_count": 44,
     "metadata": {},
     "output_type": "execute_result"
    }
   ],
   "source": [
    "T_sens"
   ]
  },
  {
   "cell_type": "code",
   "execution_count": 34,
   "metadata": {},
   "outputs": [],
   "source": [
    "# path_save = os.path.join(PATH_DATA, \"sensitivity/\" 'SDS_WFS_7yr_eff_5sig.csv')\n",
    "# T_sens.write(path_save, overwrite = True)"
   ]
  },
  {
   "cell_type": "code",
   "execution_count": null,
   "metadata": {},
   "outputs": [],
   "source": []
  }
 ],
 "metadata": {
  "kernelspec": {
   "display_name": "base",
   "language": "python",
   "name": "python3"
  },
  "language_info": {
   "codemirror_mode": {
    "name": "ipython",
    "version": 3
   },
   "file_extension": ".py",
   "mimetype": "text/x-python",
   "name": "python",
   "nbconvert_exporter": "python",
   "pygments_lexer": "ipython3",
   "version": "3.9.13"
  },
  "orig_nbformat": 4
 },
 "nbformat": 4,
 "nbformat_minor": 2
}
