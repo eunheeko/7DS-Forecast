{
 "cells": [
  {
   "cell_type": "code",
   "execution_count": 1,
   "metadata": {},
   "outputs": [],
   "source": [
    "import os\n",
    "import tqdm\n",
    "\n",
    "from astropy.table import Table\n",
    "import pandas as pd\n",
    "from astropy.io import fits\n",
    "\n",
    "import SciServer\n",
    "from SciServer import Authentication, LoginPortal, Config, CasJobs, SkyQuery, SciDrive, SkyServer, Files, Jobs"
   ]
  },
  {
   "cell_type": "markdown",
   "metadata": {},
   "source": [
    "## Log-in"
   ]
  },
  {
   "cell_type": "code",
   "execution_count": 2,
   "metadata": {},
   "outputs": [],
   "source": [
    "# Define login Name and password before running these examples\n",
    "Authentication_loginName = 'name';\n",
    "Authentication_loginPassword = 'Name_mark_year' #'Name_mark_year'"
   ]
  },
  {
   "cell_type": "code",
   "execution_count": 3,
   "metadata": {},
   "outputs": [
    {
     "name": "stdout",
     "output_type": "stream",
     "text": [
      "token1=ed4363cb56284b1a8dfdfe682e2c0bc4\n",
      "token2=ed4363cb56284b1a8dfdfe682e2c0bc4\n",
      "token3=ed4363cb56284b1a8dfdfe682e2c0bc4\n",
      "token4=ed4363cb56284b1a8dfdfe682e2c0bc4\n"
     ]
    },
    {
     "name": "stderr",
     "output_type": "stream",
     "text": [
      "/usr/anaconda3/lib/python3.7/site-packages/ipykernel_launcher.py:5: DeprecationWarning: Using SciServer.Authentication.getKeystoneToken is deprecated. Use SciServer.Authentication.getToken instead.\n",
      "  \"\"\"\n"
     ]
    }
   ],
   "source": [
    "#logging in and getting current token from different ways\n",
    "\n",
    "token1 = Authentication.login(Authentication_loginName, Authentication_loginPassword);\n",
    "token2 = Authentication.getToken()\n",
    "token3 = Authentication.getKeystoneToken()\n",
    "token4 = Authentication.token.value\n",
    "print(\"token1=\" + token1)#\n",
    "print(\"token2=\" + token2)#\n",
    "print(\"token3=\" + token3)#\n",
    "print(\"token4=\" + token4)#"
   ]
  },
  {
   "cell_type": "markdown",
   "metadata": {},
   "source": [
    "## Run query"
   ]
  },
  {
   "cell_type": "code",
   "execution_count": 13,
   "metadata": {},
   "outputs": [
    {
     "name": "stdout",
     "output_type": "stream",
     "text": [
      "total 3809 plates\n"
     ]
    }
   ],
   "source": [
    "plates = os.listdir('/data6/SDSSspec')\n",
    "plates.sort()\n",
    "\n",
    "plates = plates[:-1]\n",
    "print(f'total {len(plates)} plates')"
   ]
  },
  {
   "cell_type": "code",
   "execution_count": 14,
   "metadata": {},
   "outputs": [
    {
     "data": {
      "text/plain": [
       "'10000'"
      ]
     },
     "execution_count": 14,
     "metadata": {},
     "output_type": "execute_result"
    }
   ],
   "source": [
    "plates[0]"
   ]
  },
  {
   "cell_type": "code",
   "execution_count": null,
   "metadata": {},
   "outputs": [
    {
     "name": "stderr",
     "output_type": "stream",
     "text": [
      "\n",
      "  0%|          | 0/156 [00:00<?, ?it/s]\u001b[A\n",
      "  1%|          | 1/156 [00:10<26:02, 10.08s/it]\u001b[A\n",
      "  1%|▏         | 2/156 [00:18<24:56,  9.72s/it]\u001b[A\n",
      "  2%|▏         | 3/156 [00:27<23:32,  9.24s/it]\u001b[A\n",
      "  3%|▎         | 4/156 [00:35<23:01,  9.09s/it]\u001b[A\n",
      "  3%|▎         | 5/156 [00:44<22:52,  9.09s/it]\u001b[A\n",
      "  4%|▍         | 6/156 [00:53<22:25,  8.97s/it]\u001b[A\n",
      "  4%|▍         | 7/156 [01:01<21:38,  8.72s/it]\u001b[A\n",
      "  5%|▌         | 8/156 [01:10<21:43,  8.81s/it]\u001b[A\n",
      "  6%|▌         | 9/156 [01:19<21:24,  8.74s/it]\u001b[A\n",
      "  6%|▋         | 10/156 [01:27<21:07,  8.68s/it]\u001b[A\n",
      "  7%|▋         | 11/156 [01:36<21:04,  8.72s/it]\u001b[A\n",
      "  8%|▊         | 12/156 [01:45<20:59,  8.75s/it]\u001b[A\n",
      "  8%|▊         | 13/156 [01:53<20:40,  8.68s/it]\u001b[A\n",
      "  9%|▉         | 14/156 [02:03<20:50,  8.81s/it]\u001b[A\n",
      " 10%|▉         | 15/156 [02:12<20:47,  8.85s/it]\u001b[A\n",
      " 10%|█         | 16/156 [02:20<20:26,  8.76s/it]\u001b[A\n",
      " 11%|█         | 17/156 [02:29<20:23,  8.80s/it]\u001b[A\n",
      " 12%|█▏        | 18/156 [02:38<20:30,  8.92s/it]\u001b[A\n",
      " 12%|█▏        | 19/156 [02:47<20:21,  8.92s/it]\u001b[A\n",
      " 13%|█▎        | 20/156 [02:54<19:06,  8.43s/it]\u001b[A\n",
      " 13%|█▎        | 21/156 [03:01<17:57,  7.98s/it]\u001b[A\n",
      " 14%|█▍        | 22/156 [03:08<16:41,  7.47s/it]\u001b[A\n",
      " 15%|█▍        | 23/156 [03:16<16:52,  7.61s/it]\u001b[A\n",
      " 15%|█▌        | 24/156 [03:24<17:26,  7.92s/it]\u001b[A\n",
      " 16%|█▌        | 25/156 [03:33<17:37,  8.07s/it]\u001b[A\n",
      " 17%|█▋        | 26/156 [03:41<17:45,  8.20s/it]\u001b[A\n",
      " 17%|█▋        | 27/156 [03:50<18:00,  8.38s/it]\u001b[A\n",
      " 18%|█▊        | 28/156 [03:59<18:02,  8.46s/it]\u001b[A"
     ]
    }
   ],
   "source": [
    "for pl in tqdm.tqdm(plates[1844:2000]):\n",
    "\n",
    "    tbl_name = \"plate_\" + pl\n",
    "    tbl_path = \"/data6/SDSSspec_sup/\" + pl + \"/\"\n",
    "    tbl_csv = pd.read_csv(tbl_path + tbl_name + \".csv\", index_col=None)\n",
    "        \n",
    "    # upload table for matching specPhotAll\n",
    "    result =  CasJobs.uploadPandasDataFrameToTable(dataFrame=tbl_csv, tableName=tbl_name, context=\"MyDB\")\n",
    "    \n",
    "    if not result:\n",
    "        print('upload failed')\n",
    "        break\n",
    "    \n",
    "    #query\n",
    "    myquery = 'SELECT * ' # note the space at the end of this string - important\n",
    "    myquery += 'FROM specPhotoAll AS spa '\n",
    "    myquery += 'JOIN mydb.plate_' + pl + ' AS my '\n",
    "    myquery += 'ON spa.plate = ' + pl + ' AND spa.fiberID = my.fiberid_my AND spa.mjd = my.mjd_my'\n",
    "    \n",
    "    df = CasJobs.executeQuery(sql=myquery, context=\"DR17\")\n",
    "    df.to_csv(tbl_path + 'specPhotoAll_' + pl + '.csv', index=False)\n",
    "\n",
    "    # delete table\n",
    "    result = CasJobs.executeQuery(sql=\"DROP TABLE \" + 'plate_' + pl, context=\"MyDB\", format=\"pandas\")"
   ]
  },
  {
   "cell_type": "code",
   "execution_count": 31,
   "metadata": {},
   "outputs": [
    {
     "data": {
      "text/plain": [
       "'5887'"
      ]
     },
     "execution_count": 31,
     "metadata": {},
     "output_type": "execute_result"
    }
   ],
   "source": [
    "pl"
   ]
  },
  {
   "cell_type": "code",
   "execution_count": 32,
   "metadata": {},
   "outputs": [
    {
     "data": {
      "text/plain": [
       "'5887'"
      ]
     },
     "execution_count": 32,
     "metadata": {},
     "output_type": "execute_result"
    }
   ],
   "source": [
    "plates[1000+844]"
   ]
  }
 ],
 "metadata": {
  "kernelspec": {
   "display_name": "Python 3",
   "language": "python",
   "name": "python3"
  },
  "language_info": {
   "codemirror_mode": {
    "name": "ipython",
    "version": 3
   },
   "file_extension": ".py",
   "mimetype": "text/x-python",
   "name": "python",
   "nbconvert_exporter": "python",
   "pygments_lexer": "ipython3",
   "version": "3.7.4"
  }
 },
 "nbformat": 4,
 "nbformat_minor": 2
}
