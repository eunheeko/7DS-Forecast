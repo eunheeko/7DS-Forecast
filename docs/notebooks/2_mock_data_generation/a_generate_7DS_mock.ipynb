{
 "cells": [
  {
   "cell_type": "code",
   "execution_count": 1,
   "metadata": {},
   "outputs": [],
   "source": [
    "# from svnds.synphot import load_catalog\n",
    "from svnds.synphot import Syn7DS, merge_tbl\n",
    "import numpy as np\n",
    "\n",
    "import os"
   ]
  },
  {
   "cell_type": "markdown",
   "metadata": {},
   "source": [
    "<div class=\"alert alert-block alert-warning\"> 'EL-COSMOS' data should be downloaded before running this notebook </div>\n",
    "\n",
    "* Download [EL-COSMOS](https://cesam.lam.fr/aspic/files/elcosmos/readme_elcosmos.html)\n",
    "* We assume the EL-COSMOS is structured as follows:\n",
    "    - `path_elcomos`\n",
    "        - `EL_COMOS_zone{n}.csv` is saved in the path where n = 1-9."
   ]
  },
  {
   "cell_type": "code",
   "execution_count": 6,
   "metadata": {},
   "outputs": [],
   "source": [
    "# PATH where EL-COSMOS data is located\n",
    "# path_elcosmos = '/home/ehko/photz_for_7ds/test/test_data/elcosmos/'\n",
    "path_elcosmos = '/data8/EL_COSMOS/elcosmos/'\n",
    "\n",
    "# PATH to save output data\n",
    "# path_save = '/home/ehko/photz_for_7ds/test/test_data/output/'\n",
    "path_save = '/data8/EL_COSMOS/synphots/SDS/scale_18_eff/'"
   ]
  },
  {
   "cell_type": "code",
   "execution_count": 7,
   "metadata": {},
   "outputs": [
    {
     "name": "stdout",
     "output_type": "stream",
     "text": [
      "[   180   4680  14040  23400  32760  65700 328500]\n",
      "[    90   2340   7020  11700  16380  32850 164250]\n"
     ]
    }
   ],
   "source": [
    "Tsamps = np.array([180, 180 * 364/14, 180 * 364/14 * 3, 180 * 364/14 * 5, 180 * 364/14 * 7, 180 * 365, 180 * 365 * 5], dtype = int)\n",
    "print(Tsamps)\n",
    "\n",
    "Tsamps = (Tsamps * 0.5).astype(int)\n",
    "print(Tsamps)"
   ]
  },
  {
   "cell_type": "code",
   "execution_count": 8,
   "metadata": {},
   "outputs": [
    {
     "name": "stdout",
     "output_type": "stream",
     "text": [
      "survey: 7DS\n",
      "Exposure time: \n",
      "[    90   2340   7020  11700  16380  32850 164250]\n"
     ]
    }
   ],
   "source": [
    "syn = Syn7DS(path_elcosmos, path_save, Tsamps)"
   ]
  },
  {
   "cell_type": "code",
   "execution_count": 9,
   "metadata": {},
   "outputs": [
    {
     "name": "stderr",
     "output_type": "stream",
     "text": [
      "  0%|          | 0/60172 [00:00<?, ?it/s]WARNING: UnitsWarning: 'erg/s/cm2/Angstrom' contains multiple slashes, which is discouraged by the FITS standard [astropy.units.format.generic]\n",
      "  0%|          | 129/60172 [00:06<51:11, 19.55it/s]"
     ]
    }
   ],
   "source": [
    "syn.synphot(zones = range(1, 10), magscale = True, mag_ref = 18)"
   ]
  },
  {
   "cell_type": "code",
   "execution_count": 12,
   "metadata": {},
   "outputs": [
    {
     "name": "stdout",
     "output_type": "stream",
     "text": [
      "Final table is created\n"
     ]
    }
   ],
   "source": [
    "merge_tbl(path_save, \"synphot_7DS_total.csv\")"
   ]
  },
  {
   "cell_type": "code",
   "execution_count": null,
   "metadata": {},
   "outputs": [],
   "source": []
  },
  {
   "cell_type": "code",
   "execution_count": null,
   "metadata": {},
   "outputs": [],
   "source": []
  },
  {
   "cell_type": "code",
   "execution_count": null,
   "metadata": {},
   "outputs": [],
   "source": []
  }
 ],
 "metadata": {
  "kernelspec": {
   "display_name": "Python 3",
   "language": "python",
   "name": "python3"
  },
  "language_info": {
   "codemirror_mode": {
    "name": "ipython",
    "version": 3
   },
   "file_extension": ".py",
   "mimetype": "text/x-python",
   "name": "python",
   "nbconvert_exporter": "python",
   "pygments_lexer": "ipython3",
   "version": "3.9.13"
  },
  "orig_nbformat": 4
 },
 "nbformat": 4,
 "nbformat_minor": 2
}
