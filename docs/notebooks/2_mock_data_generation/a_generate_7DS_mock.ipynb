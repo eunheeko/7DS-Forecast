{
 "cells": [
  {
   "cell_type": "code",
   "execution_count": 1,
   "metadata": {},
   "outputs": [],
   "source": [
    "# from svnds.synphot import load_catalog\n",
    "from svnds.synphot import Syn7DS, merge_tbl\n",
    "import numpy as np\n",
    "\n",
    "import os"
   ]
  },
  {
   "cell_type": "markdown",
   "metadata": {},
   "source": [
    "<div class=\"alert alert-block alert-warning\"> 'EL-COSMOS' data should be downloaded before running this notebook </div>\n",
    "\n",
    "* Download [EL-COSMOS](https://cesam.lam.fr/aspic/files/elcosmos/readme_elcosmos.html)\n",
    "* We assume the EL-COSMOS is structured as follows:\n",
    "    - `path_elcomos`\n",
    "        - `EL_COMOS_zone{n}.csv` is saved in the path where n = 1-9."
   ]
  },
  {
   "cell_type": "code",
   "execution_count": 2,
   "metadata": {},
   "outputs": [],
   "source": [
    "# PATH where EL-COSMOS data is located\n",
    "# path_elcosmos = '/home/ehko/photz_for_7ds/test/test_data/elcosmos/'\n",
    "path_elcosmos = '/data8/EL_COSMOS/elcosmos/'\n",
    "\n",
    "# PATH to save output data\n",
    "# path_save = '/home/ehko/photz_for_7ds/test/test_data/output/'\n",
    "path_save = '/data8/EL_COSMOS/synphots/SDS/scale_19p5_eff/'"
   ]
  },
  {
   "cell_type": "code",
   "execution_count": 3,
   "metadata": {},
   "outputs": [
    {
     "name": "stdout",
     "output_type": "stream",
     "text": [
      "[   180   4680  14040  23400  32760  65700 328500]\n",
      "[    90   2340   7020  11700  16380  32850 164250]\n"
     ]
    }
   ],
   "source": [
    "Tsamps = np.array([180, 180 * 364/14, 180 * 364/14 * 3, 180 * 364/14 * 5, 180 * 364/14 * 7, 180 * 365, 180 * 365 * 5], dtype = int)\n",
    "print(Tsamps)\n",
    "\n",
    "Tsamps = (Tsamps * 0.5).astype(int)\n",
    "print(Tsamps)"
   ]
  },
  {
   "cell_type": "code",
   "execution_count": 4,
   "metadata": {},
   "outputs": [
    {
     "name": "stdout",
     "output_type": "stream",
     "text": [
      "survey: 7DS\n",
      "Exposure time: \n",
      "[    90   2340   7020  11700  16380  32850 164250]\n"
     ]
    }
   ],
   "source": [
    "syn = Syn7DS(path_elcosmos, path_save, Tsamps)"
   ]
  },
  {
   "cell_type": "code",
   "execution_count": 6,
   "metadata": {},
   "outputs": [
    {
     "name": "stderr",
     "output_type": "stream",
     "text": [
      "100%|██████████| 60172/60172 [51:47<00:00, 19.36it/s]\n"
     ]
    },
    {
     "name": "stdout",
     "output_type": "stream",
     "text": [
      "zone 1 completed!\n"
     ]
    },
    {
     "name": "stderr",
     "output_type": "stream",
     "text": [
      "100%|██████████| 60892/60892 [52:51<00:00, 19.20it/s] \n"
     ]
    },
    {
     "name": "stdout",
     "output_type": "stream",
     "text": [
      "zone 2 completed!\n"
     ]
    },
    {
     "name": "stderr",
     "output_type": "stream",
     "text": [
      "100%|██████████| 56967/56967 [49:26<00:00, 19.21it/s]\n"
     ]
    },
    {
     "name": "stdout",
     "output_type": "stream",
     "text": [
      "zone 3 completed!\n"
     ]
    },
    {
     "name": "stderr",
     "output_type": "stream",
     "text": [
      "100%|██████████| 57947/57947 [50:28<00:00, 19.13it/s]\n"
     ]
    },
    {
     "name": "stdout",
     "output_type": "stream",
     "text": [
      "zone 4 completed!\n"
     ]
    },
    {
     "name": "stderr",
     "output_type": "stream",
     "text": [
      "100%|██████████| 66143/66143 [57:29<00:00, 19.17it/s] \n"
     ]
    },
    {
     "name": "stdout",
     "output_type": "stream",
     "text": [
      "zone 5 completed!\n"
     ]
    },
    {
     "name": "stderr",
     "output_type": "stream",
     "text": [
      "100%|██████████| 61524/61524 [53:20<00:00, 19.22it/s] \n"
     ]
    },
    {
     "name": "stdout",
     "output_type": "stream",
     "text": [
      "zone 6 completed!\n"
     ]
    },
    {
     "name": "stderr",
     "output_type": "stream",
     "text": [
      "100%|██████████| 59354/59354 [51:36<00:00, 19.17it/s]\n"
     ]
    },
    {
     "name": "stdout",
     "output_type": "stream",
     "text": [
      "zone 8 completed!\n"
     ]
    },
    {
     "name": "stderr",
     "output_type": "stream",
     "text": [
      "100%|██████████| 60409/60409 [52:31<00:00, 19.17it/s] \n"
     ]
    },
    {
     "name": "stdout",
     "output_type": "stream",
     "text": [
      "zone 9 completed!\n"
     ]
    }
   ],
   "source": [
    "syn.synphot(zones = [1, 2, 3, 4, 5, 6, 8, 9], magscale = True, mag_ref = 19.5)"
   ]
  },
  {
   "cell_type": "code",
   "execution_count": 8,
   "metadata": {},
   "outputs": [
    {
     "name": "stdout",
     "output_type": "stream",
     "text": [
      "Final table is created\n"
     ]
    }
   ],
   "source": [
    "merge_tbl(path_save, f\"synphot_7DS_scale_{19.5:.1f}_yrs_all_eff_tot.csv\")"
   ]
  }
 ],
 "metadata": {
  "kernelspec": {
   "display_name": "Python 3",
   "language": "python",
   "name": "python3"
  },
  "language_info": {
   "codemirror_mode": {
    "name": "ipython",
    "version": 3
   },
   "file_extension": ".py",
   "mimetype": "text/x-python",
   "name": "python",
   "nbconvert_exporter": "python",
   "pygments_lexer": "ipython3",
   "version": "3.9.13"
  },
  "orig_nbformat": 4
 },
 "nbformat": 4,
 "nbformat_minor": 2
}
