{
 "cells": [
  {
   "cell_type": "code",
   "execution_count": 1,
   "metadata": {},
   "outputs": [],
   "source": [
    "from svnds import PATH_DATA\n",
    "\n",
    "import pickle\n",
    "import os\n",
    "import numpy as np\n",
    "\n",
    "import eazy\n",
    "\n",
    "from astropy.table import Table"
   ]
  },
  {
   "cell_type": "markdown",
   "metadata": {},
   "source": [
    "<div class=\"alert alert-block alert-warning\"> `eazy-py` should be installed before running this notebook </div>\n",
    "\n",
    "* Install [eazy-py](https://github.com/gbrammer/eazy-py)"
   ]
  },
  {
   "cell_type": "markdown",
   "metadata": {},
   "source": [
    "## .RES for filters in EAZY"
   ]
  },
  {
   "cell_type": "markdown",
   "metadata": {},
   "source": [
    "Load 7DS filters & transform them into a .res file."
   ]
  },
  {
   "cell_type": "code",
   "execution_count": 2,
   "metadata": {},
   "outputs": [],
   "source": [
    "lambda_7ds = np.arange(4000., 9000., 125)\n",
    "\n",
    "path_filter = os.path.join(PATH_DATA, \"filters/SDS/filters_corrected\")\n",
    "\n",
    "with open(path_filter, 'rb') as fr:\n",
    "    filters_corrected = pickle.load(fr)\n"
   ]
  },
  {
   "cell_type": "code",
   "execution_count": 14,
   "metadata": {},
   "outputs": [],
   "source": [
    "# from svnds.info_PS import NAMES, FILTERS, COL_WAVE, COL_RESP\n",
    "from svnds.info_VIKING import NAMES, FILTERS, COL_WAVE, COL_RESP"
   ]
  },
  {
   "cell_type": "code",
   "execution_count": 15,
   "metadata": {},
   "outputs": [
    {
     "data": {
      "text/plain": [
       "['Z_V', 'Y_V', 'J_V', 'H_V', 'Ks_V']"
      ]
     },
     "execution_count": 15,
     "metadata": {},
     "output_type": "execute_result"
    }
   ],
   "source": [
    "NAMES"
   ]
  },
  {
   "cell_type": "code",
   "execution_count": 16,
   "metadata": {},
   "outputs": [],
   "source": [
    "fsets = ''\n",
    "\n",
    "# 40 7DS filters\n",
    "for ii, wl_cen in enumerate(lambda_7ds):\n",
    "\n",
    "    wave_cen = f'{int(wl_cen):d}'\n",
    "    \n",
    "    wave = filters_corrected['wave_' + wave_cen] * 1e4\n",
    "    resp = filters_corrected['resp_' + wave_cen]\n",
    "        \n",
    "    fset = eazy.filters.FilterDefinition(wave = wave, throughput = resp, name = f'F{int(wl_cen):d}W250')\n",
    "    fsets = fsets + fset.for_filter_file() + '\\n'\n",
    "\n",
    "# # PS filters\n",
    "# for ii, wl_cen in enumerate(NAMES):\n",
    "\n",
    "#     wave_cen = wl_cen\n",
    "\n",
    "#     wave = FILTERS[ii][COL_WAVE] * 10 #nm to AA\n",
    "#     resp = FILTERS[ii][COL_RESP]\n",
    "        \n",
    "#     fset = eazy.filters.FilterDefinition(wave = wave, throughput = resp, name = 'F_' + wl_cen)\n",
    "#     fsets = fsets + fset.for_filter_file() + '\\n'\n",
    "\n",
    "# VIKING filters\n",
    "for ii, wl_cen in enumerate(NAMES):\n",
    "\n",
    "    wave_cen = wl_cen\n",
    "\n",
    "    wave = FILTERS[ii][COL_WAVE] * 10 #nm to AA\n",
    "    resp = FILTERS[ii][COL_RESP]\n",
    "        \n",
    "    fset = eazy.filters.FilterDefinition(wave = wave, throughput = resp, name = 'F_' + wl_cen)\n",
    "    fsets = fsets + fset.for_filter_file() + '\\n'\n",
    "\n",
    "with open(os.path.join(PATH_DATA, \"/home/ehko/photz_for_7ds/svnds/data/filters/VIKING/Masters_VIKING.FILTER.RES\"), 'w') as f:\n",
    "    f.write(fsets)"
   ]
  },
  {
   "cell_type": "markdown",
   "metadata": {},
   "source": [
    "## .cat for an input catalog in EAZY"
   ]
  },
  {
   "cell_type": "code",
   "execution_count": 2,
   "metadata": {},
   "outputs": [
    {
     "data": {
      "text/plain": [
       "11700"
      ]
     },
     "execution_count": 2,
     "metadata": {},
     "output_type": "execute_result"
    }
   ],
   "source": [
    "lambda_7ds = np.arange(4000., 9000., 125)\n",
    "\n",
    "from svnds.info_SPHEREx import SPHEREx_lambda_min, SPHEREx_lambda_max, SPHEREx_R\n",
    "\n",
    "lmin = SPHEREx_lambda_min\n",
    "lmax = SPHEREx_lambda_max\n",
    "resolving_power = SPHEREx_R\n",
    "\n",
    "Texp = int(180 * 364/14 * 5 * 0.5)\n",
    "Texp"
   ]
  },
  {
   "cell_type": "code",
   "execution_count": 3,
   "metadata": {},
   "outputs": [],
   "source": [
    "from svnds.info_VIKING import NAMES, FILTERS, COL_WAVE, COL_RESP"
   ]
  },
  {
   "cell_type": "code",
   "execution_count": 4,
   "metadata": {},
   "outputs": [],
   "source": [
    "tbl_7ds40 = Table.read(\"/data8/EL_COSMOS/synphots/SDS/original_eff/synphot_7ds_yrs_all_eff_tot.csv\")"
   ]
  },
  {
   "cell_type": "code",
   "execution_count": 5,
   "metadata": {},
   "outputs": [],
   "source": [
    "tbl_VIKING = Table.read(\"/data8/EL_COSMOS/synphots/VIKING/synphot_VIKING_tot.csv\")\n",
    "# tbl_PS = Table.read(\"/data8/EL_COSMOS/synphots/PANSTARRS/synphot_PANSTARRS_tot.csv\")\n",
    "# tbl_spx = Table.read(\"/data8/EL_COSMOS/synphots/SPHEREx_m6250/scale_22.5/synphot_SPHEREx_scale_22.5_tot.csv\")"
   ]
  },
  {
   "cell_type": "code",
   "execution_count": 6,
   "metadata": {},
   "outputs": [],
   "source": [
    "# tbl_spx = Table.read(\"/data8/EL_COSMOS/synphots/SPHEREx/scale_22.5/synphot_SPHEREx_scale_22.5_tot.csv\")"
   ]
  },
  {
   "cell_type": "code",
   "execution_count": 7,
   "metadata": {},
   "outputs": [
    {
     "data": {
      "text/plain": [
       "518404"
      ]
     },
     "execution_count": 7,
     "metadata": {},
     "output_type": "execute_result"
    }
   ],
   "source": [
    "nsamp = len(tbl_7ds40)\n",
    "nsamp"
   ]
  },
  {
   "cell_type": "code",
   "execution_count": 8,
   "metadata": {},
   "outputs": [],
   "source": [
    "# header\n",
    "header = '#'\n",
    "header += '\\t' + 'id'\n",
    "\n",
    "### 7DS 40 filters\n",
    "for ii, wl_cen in enumerate(lambda_7ds):\n",
    "\n",
    "    wave_cen = int(wl_cen)\n",
    "    \n",
    "    name = f'F_F{wave_cen:d}W250'\n",
    "    header += '\\t' + name\n",
    "    \n",
    "    name = f'E_F{int(wl_cen):d}W250'\n",
    "    header += '\\t' + name\n",
    "\n",
    "### VIKING\n",
    "for ii, wl_cen in enumerate(NAMES):\n",
    "    \n",
    "    wave_cen = wl_cen\n",
    "    \n",
    "    name = 'F_' + wave_cen \n",
    "    header += '\\t' + name\n",
    "    \n",
    "    name = 'E_' + wave_cen\n",
    "    header += '\\t' + name\n",
    "\n",
    "### PS\n",
    "# for ii, wl_cen in enumerate(NAMES):\n",
    "    \n",
    "#     wave_cen = wl_cen\n",
    "    \n",
    "#     name = 'F_' + wave_cen \n",
    "#     header += '\\t' + name\n",
    "    \n",
    "#     name = 'E_' + wave_cen\n",
    "#     header += '\\t' + name\n",
    "\n",
    "### SPHEREx\n",
    "# for iband, (l1, l2, R) in enumerate(zip(lmin, lmax, resolving_power)):\n",
    "#     i_steps  = np.arange(16, dtype=float)\n",
    "#     lambda_i = l1 * (((2*R+1)/(2*R-1))**i_steps)\n",
    "    \n",
    "#     for ii, wl_cen in enumerate(lambda_i):\n",
    "#         name = f'F_band{iband+1:d}_{ii+1}'\n",
    "#         header += '\\t' + name\n",
    "\n",
    "#         name = f'E_band{iband+1:d}_{ii+1}'\n",
    "#         header += '\\t' + name\n",
    "\n",
    "header += '\\n'"
   ]
  },
  {
   "cell_type": "code",
   "execution_count": 9,
   "metadata": {},
   "outputs": [],
   "source": [
    "values = ''\n",
    "\n",
    "for i in range(nsamp):\n",
    "    \n",
    "    #ID = spec\n",
    "    spec = tbl_7ds40['spec'][i]\n",
    "    \n",
    "    val = str(spec) + '\\t'\n",
    "#     val = ''\n",
    "    \n",
    "    for ii, wl_cen in enumerate(lambda_7ds):\n",
    "        wave_cen = f'{int(wl_cen):d}'\n",
    "        col = 'flux_' + wave_cen\n",
    "        \n",
    "        #flux\n",
    "        fl = tbl_7ds40[i][col]\n",
    "        #err\n",
    "        err = tbl_7ds40[i][col + f'_err_{Texp:d}']\n",
    "        add_err = np.random.normal( fl, err )\n",
    "\n",
    "        fl = add_err\n",
    "        \n",
    "        val += f'{fl:.5E}' + '\\t'\n",
    "        val += f'{err:.5E}' + '\\t'\n",
    "\n",
    "    # ## PS\n",
    "    # for ii, wl_cen in enumerate(NAMES):\n",
    "\n",
    "    #     wave_cen = wl_cen\n",
    "        \n",
    "    #     col = 'flux_' + wave_cen \n",
    "    #     fl = tbl_PS[i][col]\n",
    "        \n",
    "    #     col = 'flux_' + wave_cen + '_err'\n",
    "    #     err = tbl_PS[i][col]\n",
    "    #     add_err = np.random.normal( fl, err )\n",
    "        \n",
    "    #     fl = add_err\n",
    "        \n",
    "    #     val += f'{fl:.5E}' + '\\t'\n",
    "    #     val += f'{err:.5E}' + '\\t'\n",
    "    \n",
    "    ### VIKING\n",
    "    for ii, wl_cen in enumerate(NAMES):\n",
    "\n",
    "        wave_cen = wl_cen\n",
    "        \n",
    "        col = 'flux_' + wave_cen \n",
    "        fl = tbl_VIKING[i][col]\n",
    "        \n",
    "        col = 'flux_' + wave_cen + '_err'\n",
    "        err = tbl_VIKING[i][col]\n",
    "        add_err = np.random.normal( fl, err )\n",
    "        \n",
    "        fl = add_err\n",
    "        \n",
    "        val += f'{fl:.5E}' + '\\t'\n",
    "        val += f'{err:.5E}' + '\\t'\n",
    "    \n",
    "   ### 7DS SPHEREx\n",
    "    # for iband, (l1, l2, R) in enumerate(zip(lmin, lmax, resolving_power)):\n",
    "    #     i_steps  = np.arange(16, dtype=float)\n",
    "    #     lambda_i = l1 * (((2*R+1)/(2*R-1))**i_steps)\n",
    "\n",
    "    #     for ii, wl_cen in enumerate(lambda_i):\n",
    "            \n",
    "    #         fl = tbl_spx[i][f'flux_band{iband+1:d}_{ii+1}']\n",
    "    #         err = tbl_spx[i][f'flux_band{iband+1:d}_{ii+1}_err']\n",
    "            \n",
    "    #         add_err = np.random.normal( fl, err )\n",
    "    #         fl = add_err\n",
    "            \n",
    "    #         val += f'{fl:.5E}' + '\\t'\n",
    "    #         val += f'{err:.5E}' + '\\t'\n",
    "    \n",
    "\n",
    "#     zphot = cosmos['ZPHOT'][i]\n",
    "#     val += f'{zphot:.5E}' + '\\t'\n",
    "    \n",
    "    val += '\\n'\n",
    "    values += val"
   ]
  },
  {
   "cell_type": "code",
   "execution_count": 15,
   "metadata": {},
   "outputs": [],
   "source": [
    "# with open(\"/data8/EL_COSMOS/EAZY/realization/SPHEREx/\" + f'input_elcosmos_sds40_WFS_5yr_eff_SPHEREx_scale_22.5_adderr_0.cat', 'w') as f:\n",
    "    \n",
    "#     f.write(header + values)"
   ]
  },
  {
   "cell_type": "code",
   "execution_count": 12,
   "metadata": {},
   "outputs": [],
   "source": [
    "with open(\"/data8/EL_COSMOS/EAZY/realization/VIKING/\" + f'input_elcosmos_sds40_WFS_5yr_eff_VIKING_adderr_0.cat', 'w') as f:\n",
    "    \n",
    "    f.write(header + values)"
   ]
  },
  {
   "cell_type": "code",
   "execution_count": 10,
   "metadata": {},
   "outputs": [
    {
     "data": {
      "text/plain": [
       "1"
      ]
     },
     "execution_count": 10,
     "metadata": {},
     "output_type": "execute_result"
    }
   ],
   "source": [
    "1"
   ]
  },
  {
   "cell_type": "code",
   "execution_count": null,
   "metadata": {},
   "outputs": [],
   "source": []
  }
 ],
 "metadata": {
  "kernelspec": {
   "display_name": "base",
   "language": "python",
   "name": "python3"
  },
  "language_info": {
   "codemirror_mode": {
    "name": "ipython",
    "version": 3
   },
   "file_extension": ".py",
   "mimetype": "text/x-python",
   "name": "python",
   "nbconvert_exporter": "python",
   "pygments_lexer": "ipython3",
   "version": "3.9.13"
  },
  "orig_nbformat": 4
 },
 "nbformat": 4,
 "nbformat_minor": 2
}
